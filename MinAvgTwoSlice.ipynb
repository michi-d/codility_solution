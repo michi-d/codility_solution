{
 "cells": [
  {
   "cell_type": "markdown",
   "metadata": {},
   "source": [
    "## MinAvgTwoSlice\n",
    "\n",
    "A non-empty array A consisting of N integers is given. A pair of integers (P, Q), such that 0 ≤ P < Q < N, is called a slice of array A (notice that the slice contains at least two elements). The average of a slice (P, Q) is the sum of A[P] + A[P + 1] + ... + A[Q] divided by the length of the slice. To be precise, the average equals (A[P] + A[P + 1] + ... + A[Q]) / (Q − P + 1).\n",
    "\n",
    "For example, array A such that:\n",
    "\n",
    "    A[0] = 4 \n",
    "    A[1] = 2\n",
    "    A[2] = 2\n",
    "    A[3] = 5\n",
    "    A[4] = 1\n",
    "    A[5] = 5\n",
    "    A[6] = 8\n",
    "    \n",
    "contains the following example slices:\n",
    "\n",
    "slice (1, 2), whose average is (2 + 2) / 2 = 2;<br>\n",
    "slice (3, 4), whose average is (5 + 1) / 2 = 3;<br>\n",
    "slice (1, 4), whose average is (2 + 2 + 5 + 1) / 4 = 2.5.\n",
    "\n",
    "The goal is to find the starting position of a slice whose average is minimal.\n",
    "\n",
    "Write a function:\n",
    "\n",
    "**def solution(A)**\n",
    "\n",
    "that, given a non-empty array A consisting of N integers, returns the starting position of the slice with the minimal average. If there is more than one slice with a minimal average, you should return the smallest starting position of such a slice.\n",
    "\n",
    "For example, given array A such that:\n",
    "\n",
    "    A[0] = 4\n",
    "    A[1] = 2\n",
    "    A[2] = 2\n",
    "    A[3] = 5\n",
    "    A[4] = 1\n",
    "    A[5] = 5\n",
    "    A[6] = 8\n",
    "    \n",
    "the function should return 1, as explained above.\n",
    "\n",
    "Write an efficient algorithm for the following assumptions:\n",
    "\n",
    "N is an integer within the range [2..100,000];<br>\n",
    "each element of array A is an integer within the range [−10,000..10,000]."
   ]
  },
  {
   "cell_type": "code",
   "execution_count": 10,
   "metadata": {},
   "outputs": [],
   "source": [
    "%matplotlib inline\n",
    "import numpy as np\n",
    "import pandas as pandas\n",
    "import matplotlib.pyplot as plt\n",
    "import time as time\n",
    "\n",
    "import math\n",
    "import operator"
   ]
  },
  {
   "cell_type": "code",
   "execution_count": 11,
   "metadata": {},
   "outputs": [
    {
     "data": {
      "text/plain": [
       "0"
      ]
     },
     "execution_count": 11,
     "metadata": {},
     "output_type": "execute_result"
    }
   ],
   "source": [
    "def prefix_sums(A):\n",
    "    n = len(A)\n",
    "    P = [0] * (n + 1)\n",
    "    for k in range(1, n + 1):\n",
    "        P[k] = P[k - 1] + A[k - 1]\n",
    "    return P\n",
    "\n",
    "def count_total(P, x, y): \n",
    "    return P[y + 1] - P[x]\n",
    "\n",
    "\n",
    "def solution(A):\n",
    "\n",
    "    I = prefix_sums(A) # integral of A \n",
    "    \n",
    "    # differentiate I for different slice windows lengths -> minimum derivative must indicate lowest local average\n",
    "\n",
    "    PI = prefix_sums(I) # prefix sum of I / useful for fast slicing of I\n",
    "    \n",
    "    min_slice_start = []\n",
    "    min_slice       = []\n",
    "    slice_lengths = range(2,min(4,len(A)+1))\n",
    "    \n",
    "    for n in slice_lengths: # go through all possible slice lengths\n",
    "  \n",
    "        tmp  = list(map(lambda x: x[0] - x[1], zip(PI[n:],PI[:-n]) ))\n",
    "        diff = list(map(lambda x: (x[0] - x[1])/n, zip(tmp[1:], tmp[:-1])))\n",
    "\n",
    "        minimum = min(diff) # minimum of derivative gives minimum slice \n",
    "        min_slice.append(minimum) # remember minimum slice for slice length n\n",
    "\n",
    "        min_index = diff.index(minimum) # get the (smallest) start index\n",
    "        min_slice_start.append(min_index) # remember minimal start index for the given slice length n\n",
    "\n",
    "    # determine minimum position\n",
    "    optimal_slice_length_i = min_slice.index(min(min_slice))\n",
    "    optimal_slice_length   = slice_lengths[optimal_slice_length_i]\n",
    "    optimal_slice_start    = min_slice_start[optimal_slice_length_i]\n",
    "    \n",
    "    #print('Optimal slice length: {}'.format(optimal_slice_length))\n",
    "    \n",
    "    return optimal_slice_start\n",
    "\n",
    "\n",
    "#A = [4,2,3,1,2,5,1,5,8]\n",
    "#A = [7,8,6,6,7,6,5,5,7,4,1,1000,3,4,5,7]\n",
    "#A = [4,2,2,5,1,5,8]\n",
    "A = [0,0,0,0,0,0]\n",
    "\n",
    "solution(A)"
   ]
  },
  {
   "cell_type": "code",
   "execution_count": 13,
   "metadata": {},
   "outputs": [
    {
     "data": {
      "text/plain": [
       "Text(0, 0.5, 'time')"
      ]
     },
     "execution_count": 13,
     "metadata": {},
     "output_type": "execute_result"
    },
    {
     "data": {
      "image/png": "[encoded data removed]",
      "text/plain": [
       "<Figure size 432x288 with 1 Axes>"
      ]
     },
     "metadata": {
      "needs_background": "light"
     },
     "output_type": "display_data"
    }
   ],
   "source": [
    "# check time complexity\n",
    "import time as time\n",
    "\n",
    "n_range = np.arange(2,5000,500)\n",
    "\n",
    "speedA = []\n",
    "results = []\n",
    "for N in n_range:\n",
    "\n",
    "    A = list(np.random.randint(-1e4,1e4,N))\n",
    "    \n",
    "    t1 = time.time()\n",
    "    results.append(solution(A))\n",
    "    t2 = time.time()\n",
    "    speedA.append(t2-t1)\n",
    "\n",
    "plt.plot(n_range, speedA, 'ko-')\n",
    "plt.xlabel('N')\n",
    "plt.ylabel('time')"
   ]
  },
  {
   "cell_type": "code",
   "execution_count": null,
   "metadata": {},
   "outputs": [],
   "source": []
  }
 ],
 "metadata": {
  "kernelspec": {
   "display_name": "Python 3",
   "language": "python",
   "name": "python3"
  },
  "language_info": {
   "codemirror_mode": {
    "name": "ipython",
    "version": 3
   },
   "file_extension": ".py",
   "mimetype": "text/x-python",
   "name": "python",
   "nbconvert_exporter": "python",
   "pygments_lexer": "ipython3",
   "version": "3.7.7"
  }
 },
 "nbformat": 4,
 "nbformat_minor": 4
}
