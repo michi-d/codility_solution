{
 "cells": [
  {
   "cell_type": "markdown",
   "metadata": {},
   "source": [
    "## TapeEquilibrium\n",
    "\n",
    "A non-empty array A consisting of N integers is given. Array A represents numbers on a tape.\n",
    "\n",
    "Any integer P, such that 0 < P < N, splits this tape into two non-empty parts: A[0], A[1], ..., A[P − 1] and A[P], A[P + 1], ..., A[N − 1].\n",
    "\n",
    "The difference between the two parts is the value of: |(A[0] + A[1] + ... + A[P − 1]) − (A[P] + A[P + 1] + ... + A[N − 1])|\n",
    "\n",
    "In other words, it is the absolute difference between the sum of the first part and the sum of the second part.\n",
    "\n",
    "For example, consider array A such that:\n",
    "\n",
    "  A[0] = 3<br>\n",
    "  A[1] = 1<br>\n",
    "  A[2] = 2<br>\n",
    "  A[3] = 4<br>\n",
    "  A[4] = 3\n",
    "  \n",
    "We can split this tape in four places:\n",
    "\n",
    "P = 1, difference = |3 − 10| = 7 <br>\n",
    "P = 2, difference = |4 − 9| = 5 <br>\n",
    "P = 3, difference = |6 − 7| = 1 <br>\n",
    "P = 4, difference = |10 − 3| = 7 \n",
    "\n",
    "Write a function:\n",
    "\n",
    "**def solution(A)**\n",
    "\n",
    "that, given a non-empty array A of N integers, returns the minimal difference that can be achieved.\n",
    "\n",
    "For example, given:\n",
    "\n",
    "  A[0] = 3<br>\n",
    "  A[1] = 1<br>\n",
    "  A[2] = 2<br>\n",
    "  A[3] = 4<br>\n",
    "  A[4] = 3\n",
    "  \n",
    "the function should return 1, as explained above.\n",
    "\n",
    "Write an efficient algorithm for the following assumptions:\n",
    "\n",
    "N is an integer within the range [2..100,000];\n",
    "each element of array A is an integer within the range [−1,000..1,000]."
   ]
  },
  {
   "cell_type": "code",
   "execution_count": 1,
   "metadata": {},
   "outputs": [],
   "source": [
    "%matplotlib inline\n",
    "import numpy as np\n",
    "import pandas as pandas\n",
    "import matplotlib.pyplot as plt\n",
    "import time as time\n",
    "\n",
    "import math\n",
    "import operator"
   ]
  },
  {
   "cell_type": "code",
   "execution_count": 4,
   "metadata": {},
   "outputs": [
    {
     "data": {
      "text/plain": [
       "0"
      ]
     },
     "execution_count": 4,
     "metadata": {},
     "output_type": "execute_result"
    }
   ],
   "source": [
    "def solution(A):\n",
    "    results = []\n",
    "    \n",
    "    sum1 = 0\n",
    "    sum2 = sum(A)\n",
    "    for P in range(0,len(A)-1):\n",
    "        next_element = A[P]\n",
    "        sum1 += next_element\n",
    "        sum2 -= next_element\n",
    "        results.append(abs(sum1-sum2))\n",
    "    return min(results)\n",
    "\n",
    "#A = [3,1,2,4,3]\n",
    "#A = [0,0,1,0,0]\n",
    "A = [2,2]\n",
    "solution(A)"
   ]
  },
  {
   "cell_type": "code",
   "execution_count": 5,
   "metadata": {},
   "outputs": [
    {
     "data": {
      "text/plain": [
       "Text(0, 0.5, 'time')"
      ]
     },
     "execution_count": 5,
     "metadata": {},
     "output_type": "execute_result"
    },
    {
     "data": {
      "image/png": "[encoded data removed]",
      "text/plain": [
       "<Figure size 432x288 with 1 Axes>"
      ]
     },
     "metadata": {
      "needs_background": "light"
     },
     "output_type": "display_data"
    }
   ],
   "source": [
    "# check time complexity\n",
    "n_range = np.arange(2,100000,1000)\n",
    "speed   = []\n",
    "results = []\n",
    "for N in n_range:\n",
    "    #print(N)\n",
    "    A = np.random.randint(-1000,1000,N)\n",
    "    \n",
    "    t1 = time.time()\n",
    "    result = solution(A)\n",
    "    t2 = time.time()\n",
    "    \n",
    "    results.append(result)\n",
    "    speed.append(t2-t1)\n",
    "    \n",
    "plt.plot(n_range, speed, 'ko-')\n",
    "plt.xlabel('N')\n",
    "plt.ylabel('time')"
   ]
  },
  {
   "cell_type": "code",
   "execution_count": null,
   "metadata": {},
   "outputs": [],
   "source": []
  }
 ],
 "metadata": {
  "kernelspec": {
   "display_name": "Python 3",
   "language": "python",
   "name": "python3"
  },
  "language_info": {
   "codemirror_mode": {
    "name": "ipython",
    "version": 3
   },
   "file_extension": ".py",
   "mimetype": "text/x-python",
   "name": "python",
   "nbconvert_exporter": "python",
   "pygments_lexer": "ipython3",
   "version": "3.7.7"
  }
 },
 "nbformat": 4,
 "nbformat_minor": 4
}
