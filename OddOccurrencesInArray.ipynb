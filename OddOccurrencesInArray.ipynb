{
 "cells": [
  {
   "cell_type": "markdown",
   "metadata": {},
   "source": [
    "## OddOccurrencesInArray\n",
    "\n",
    "A non-empty array A consisting of N integers is given. The array contains an odd number of elements, and each element of the array can be paired with another element that has the same value, except for one element that is left unpaired.\n",
    "\n",
    "For example, in array A such that:\n",
    "\n",
    "  A[0] = 9  A[1] = 3  A[2] = 9 <br>\n",
    "  A[3] = 3  A[4] = 9  A[5] = 7 <br>\n",
    "  A[6] = 9\n",
    "  \n",
    "the elements at indexes 0 and 2 have value 9,<br>\n",
    "the elements at indexes 1 and 3 have value 3,<br>\n",
    "the elements at indexes 4 and 6 have value 9,<br>\n",
    "the element at index 5 has value 7 and is unpaired.\n",
    "\n",
    "Write a function:\n",
    "\n",
    "**def solution(A)**\n",
    "\n",
    "that, given an array A consisting of N integers fulfilling the above conditions, returns the value of the unpaired element.\n",
    "\n",
    "For example, given array A such that:\n",
    "\n",
    "  A[0] = 9  A[1] = 3  A[2] = 9<br>\n",
    "  A[3] = 3  A[4] = 9  A[5] = 7<br>\n",
    "  A[6] = 9\n",
    "  \n",
    "the function should return 7, as explained in the example above.\n",
    "\n",
    "Write an efficient algorithm for the following assumptions:\n",
    "\n",
    "N is an odd integer within the range [1..1,000,000];<br>\n",
    "each element of array A is an integer within the range [1..1,000,000,000];<br>\n",
    "all but one of the values in A occur an even number of times."
   ]
  },
  {
   "cell_type": "code",
   "execution_count": 5,
   "metadata": {},
   "outputs": [],
   "source": [
    "%matplotlib inline\n",
    "import numpy as np\n",
    "import pandas as pandas\n",
    "import matplotlib.pyplot as plt\n",
    "import time as time\n",
    "\n",
    "import math\n",
    "import operator"
   ]
  },
  {
   "cell_type": "code",
   "execution_count": 6,
   "metadata": {},
   "outputs": [
    {
     "data": {
      "text/plain": [
       "1"
      ]
     },
     "execution_count": 6,
     "metadata": {},
     "output_type": "execute_result"
    }
   ],
   "source": [
    "def solution(A):\n",
    "    \n",
    "    count_dict = dict()\n",
    "    for a in A:\n",
    "        if a in count_dict.keys():\n",
    "            count_dict[a] += 1\n",
    "        else:\n",
    "            count_dict[a] = 1\n",
    "\n",
    "    for a in count_dict.keys():\n",
    "        if count_dict[a] % 2 != 0:\n",
    "            return(a)\n",
    "        \n",
    "A = [9,3,9,3,9,7,9]   \n",
    "A = [1,3,8,4,4,3,2,8,1,2,7,7,5,5,1]   \n",
    "solution(A)"
   ]
  },
  {
   "cell_type": "code",
   "execution_count": 7,
   "metadata": {},
   "outputs": [
    {
     "name": "stdout",
     "output_type": "stream",
     "text": [
      "True\n"
     ]
    },
    {
     "data": {
      "text/plain": [
       "Text(0, 0.5, 'time')"
      ]
     },
     "execution_count": 7,
     "metadata": {},
     "output_type": "execute_result"
    },
    {
     "data": {
      "image/png": "[encoded data removed]",
      "text/plain": [
       "<Figure size 432x288 with 1 Axes>"
      ]
     },
     "metadata": {
      "needs_background": "light"
     },
     "output_type": "display_data"
    }
   ],
   "source": [
    "# check time complexity\n",
    "n_range = np.arange(100,1000000,100000)\n",
    "speed   = []\n",
    "results = []\n",
    "for N in n_range:\n",
    "    N = N\n",
    "    A = np.random.randint(1,1e6,N//2)\n",
    "    A = np.random.permutation(np.concatenate((A,A)))\n",
    "    odd_one_out = np.random.randint(1,1e6)\n",
    "    pos         = np.random.randint(1,5)\n",
    "    A = np.insert(A, pos, odd_one_out)\n",
    "    \n",
    "    t1 = time.time()\n",
    "    result = solution(A)\n",
    "    t2 = time.time()\n",
    "    \n",
    "    results.append(result)\n",
    "    speed.append(t2-t1)\n",
    "    \n",
    "print(all(results))\n",
    "plt.plot(n_range, speed, 'ko-')\n",
    "plt.xlabel('N')\n",
    "plt.ylabel('time')"
   ]
  },
  {
   "cell_type": "code",
   "execution_count": null,
   "metadata": {},
   "outputs": [],
   "source": []
  }
 ],
 "metadata": {
  "kernelspec": {
   "display_name": "Python 3",
   "language": "python",
   "name": "python3"
  },
  "language_info": {
   "codemirror_mode": {
    "name": "ipython",
    "version": 3
   },
   "file_extension": ".py",
   "mimetype": "text/x-python",
   "name": "python",
   "nbconvert_exporter": "python",
   "pygments_lexer": "ipython3",
   "version": "3.7.7"
  }
 },
 "nbformat": 4,
 "nbformat_minor": 4
}
