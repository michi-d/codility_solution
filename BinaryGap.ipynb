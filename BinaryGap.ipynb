{
 "cells": [
  {
   "cell_type": "markdown",
   "metadata": {},
   "source": [
    "## BinaryGap\n",
    "\n",
    "A binary gap within a positive integer N is any maximal sequence of consecutive zeros that is surrounded by ones at both ends in the binary representation of N.\n",
    "\n",
    "For example, number 9 has binary representation 1001 and contains a binary gap of length 2. The number 529 has binary representation 1000010001 and contains two binary gaps: one of length 4 and one of length 3. The number 20 has binary representation 10100 and contains one binary gap of length 1. The number 15 has binary representation 1111 and has no binary gaps. The number 32 has binary representation 100000 and has no binary gaps.\n",
    "\n",
    "Write a function:\n",
    "\n",
    "**def solution(N)**\n",
    "\n",
    "that, given a positive integer N, returns the length of its longest binary gap. The function should return 0 if N doesn't contain a binary gap.\n",
    "\n",
    "For example, given N = 1041 the function should return 5, because N has binary representation 10000010001 and so its longest binary gap is of length 5. Given N = 32 the function should return 0, because N has binary representation '100000' and thus no binary gaps.\n",
    "\n",
    "Write an efficient algorithm for the following assumptions:\n",
    "\n",
    "N is an integer within the range [1..2,147,483,647]."
   ]
  },
  {
   "cell_type": "code",
   "execution_count": 4,
   "metadata": {},
   "outputs": [],
   "source": [
    "def find_ones(s):\n",
    "    '''\n",
    "    This function finds the indices of the 1's in the binary representation of the number\n",
    "    '''\n",
    "    ones = []\n",
    "    i = -1\n",
    "    while i < len(s):\n",
    "        i = s.find('1', i+1)\n",
    "        if i == -1:\n",
    "            break\n",
    "        else:\n",
    "            ones.append(i)\n",
    "    return ones\n",
    "\n",
    "def solution(N):\n",
    "    # quick and dirty solution\n",
    "    s    = \"{0:b}\".format(N) # convert to string\n",
    "    ones = find_ones(s)      # find 1's\n",
    "    gaps = [ones[i+1]-ones[i] - 1 for i in range(len(ones)-1)] # compute gap lengths between all 1's\n",
    "    \n",
    "    # find max gap, if possible, else return 0\n",
    "    if len(gaps)>0:\n",
    "        max_gap = max(gaps)\n",
    "    else:\n",
    "        max_gap = 0\n",
    "    \n",
    "    return max_gap"
   ]
  },
  {
   "cell_type": "code",
   "execution_count": null,
   "metadata": {},
   "outputs": [],
   "source": []
  }
 ],
 "metadata": {
  "kernelspec": {
   "display_name": "Python 3",
   "language": "python",
   "name": "python3"
  },
  "language_info": {
   "codemirror_mode": {
    "name": "ipython",
    "version": 3
   },
   "file_extension": ".py",
   "mimetype": "text/x-python",
   "name": "python",
   "nbconvert_exporter": "python",
   "pygments_lexer": "ipython3",
   "version": "3.7.7"
  }
 },
 "nbformat": 4,
 "nbformat_minor": 4
}
