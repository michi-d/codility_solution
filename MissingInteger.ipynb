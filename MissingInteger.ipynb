{
 "cells": [
  {
   "cell_type": "markdown",
   "metadata": {},
   "source": [
    "## MissingInteger\n",
    "\n",
    "This is a demo task.\n",
    "\n",
    "Write a function:\n",
    "\n",
    "**def solution(A)**\n",
    "\n",
    "that, given an array A of N integers, returns the smallest positive integer (greater than 0) that does not occur in A.\n",
    "\n",
    "For example, given A = [1, 3, 6, 4, 1, 2], the function should return 5.\n",
    "\n",
    "Given A = [1, 2, 3], the function should return 4.\n",
    "\n",
    "Given A = [−1, −3], the function should return 1.\n",
    "\n",
    "Write an efficient algorithm for the following assumptions:\n",
    "\n",
    "N is an integer within the range [1..100,000];<br>\n",
    "each element of array A is an integer within the range [−1,000,000..1,000,000]."
   ]
  },
  {
   "cell_type": "code",
   "execution_count": 3,
   "metadata": {},
   "outputs": [],
   "source": [
    "%matplotlib inline\n",
    "import numpy as np\n",
    "import pandas as pandas\n",
    "import matplotlib.pyplot as plt\n",
    "import time as time\n",
    "\n",
    "import math\n",
    "import operator"
   ]
  },
  {
   "cell_type": "code",
   "execution_count": 5,
   "metadata": {},
   "outputs": [
    {
     "data": {
      "text/plain": [
       "4"
      ]
     },
     "execution_count": 5,
     "metadata": {},
     "output_type": "execute_result"
    }
   ],
   "source": [
    "def solution(A):\n",
    "    \n",
    "    set_A = set(A)\n",
    "    if not 1 in set(A): # if 1 is not there, it is the solution\n",
    "        return 1\n",
    "\n",
    "    # sort and get difference between consecutive elements\n",
    "    A.sort()\n",
    "    diff = list(map(lambda x: x[0]-x[1], zip(A[1:],A[:-1])))\n",
    "    bigger_2 = [i for i,d in enumerate(diff) if d>=2 and A[i]>0] # find differences bigger than 2 (only positive elements)\n",
    "\n",
    "    if len(bigger_2) == 0:\n",
    "        out = max(A[-1]+1,1) # if no gap found, return last element +1 \n",
    "    else:\n",
    "        out = A[bigger_2[0]]+1 # otherwise return first element in gap\n",
    "\n",
    "    return out\n",
    "\n",
    "\n",
    "#A = [1, 3, 6, 4, 1, 2,-1000,-300]\n",
    "#A = [1, 2, 3]\n",
    "#A = [1, 3, 6, 4, 1, 2]\n",
    "#A = [-1, -3]\n",
    "#A = [-1100,-30,-40,-1,0,1,2,5]\n",
    "A = [1,2,3,7,40,41,42]\n",
    "\n",
    "solution(A)\n",
    "    "
   ]
  },
  {
   "cell_type": "code",
   "execution_count": 6,
   "metadata": {},
   "outputs": [
    {
     "data": {
      "text/plain": [
       "Text(0, 0.5, 'time')"
      ]
     },
     "execution_count": 6,
     "metadata": {},
     "output_type": "execute_result"
    },
    {
     "data": {
      "image/png": "[encoded data removed]",
      "text/plain": [
       "<Figure size 432x288 with 1 Axes>"
      ]
     },
     "metadata": {
      "needs_background": "light"
     },
     "output_type": "display_data"
    }
   ],
   "source": [
    "# check time complexity\n",
    "\n",
    "import time as time\n",
    "\n",
    "n_range = np.arange(1,100000,1000)\n",
    "\n",
    "speedA = []\n",
    "results = []\n",
    "for N in n_range:\n",
    "\n",
    "    A = np.random.randint(-1e6,1e6,N)\n",
    "    A = np.arange(0,N,2)\n",
    "    \n",
    "    t1 = time.time()\n",
    "    results.append(solution(A))\n",
    "    t2 = time.time()\n",
    "    speedA.append(t2-t1)\n",
    "\n",
    "    \n",
    "plt.plot(n_range, speedA, 'ko-')\n",
    "plt.xlabel('N')\n",
    "plt.ylabel('time')"
   ]
  },
  {
   "cell_type": "code",
   "execution_count": null,
   "metadata": {},
   "outputs": [],
   "source": []
  }
 ],
 "metadata": {
  "kernelspec": {
   "display_name": "Python 3",
   "language": "python",
   "name": "python3"
  },
  "language_info": {
   "codemirror_mode": {
    "name": "ipython",
    "version": 3
   },
   "file_extension": ".py",
   "mimetype": "text/x-python",
   "name": "python",
   "nbconvert_exporter": "python",
   "pygments_lexer": "ipython3",
   "version": "3.7.7"
  }
 },
 "nbformat": 4,
 "nbformat_minor": 4
}
