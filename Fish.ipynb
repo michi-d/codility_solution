{
 "cells": [
  {
   "cell_type": "markdown",
   "metadata": {},
   "source": [
    "## Fish\n",
    "\n",
    "You are given two non-empty arrays A and B consisting of N integers. Arrays A and B represent N voracious fish in a river, ordered downstream along the flow of the river.\n",
    "\n",
    "The fish are numbered from 0 to N − 1. If P and Q are two fish and P < Q, then fish P is initially upstream of fish Q. Initially, each fish has a unique position.\n",
    "\n",
    "Fish number P is represented by A[P] and B[P]. Array A contains the sizes of the fish. All its elements are unique. Array B contains the directions of the fish. It contains only 0s and/or 1s, where:\n",
    "\n",
    "0 represents a fish flowing upstream,<br>\n",
    "1 represents a fish flowing downstream.\n",
    "\n",
    "If two fish move in opposite directions and there are no other (living) fish between them, they will eventually meet each other. Then only one fish can stay alive − the larger fish eats the smaller one. More precisely, we say that two fish P and Q meet each other when P < Q, B[P] = 1 and B[Q] = 0, and there are no living fish between them.\n",
    "\n",
    "After they meet:\n",
    "\n",
    "If A[P] > A[Q] then P eats Q, and P will still be flowing downstream,<br>\n",
    "If A[Q] > A[P] then Q eats P, and Q will still be flowing upstream.\n",
    "\n",
    "\n",
    "We assume that all the fish are flowing at the same speed. That is, fish moving in the same direction never meet. The goal is to calculate the number of fish that will stay alive.\n",
    "\n",
    "For example, consider arrays A and B such that:\n",
    "\n",
    "  A[0] = 4    B[0] = 0<br>\n",
    "  A[1] = 3    B[1] = 1<br>\n",
    "  A[2] = 2    B[2] = 0<br>\n",
    "  A[3] = 1    B[3] = 0<br>\n",
    "  A[4] = 5    B[4] = 0\n",
    "  \n",
    "Initially all the fish are alive and all except fish number 1 are moving upstream. Fish number 1 meets fish number 2 and eats it, then it meets fish number 3 and eats it too. Finally, it meets fish number 4 and is eaten by it. The remaining two fish, number 0 and 4, never meet and therefore stay alive.\n",
    "\n",
    "Write a function:\n",
    "\n",
    "**def solution(A, B)**\n",
    "\n",
    "that, given two non-empty arrays A and B consisting of N integers, returns the number of fish that will stay alive.\n",
    "\n",
    "For example, given the arrays shown above, the function should return 2, as explained above.\n",
    "\n",
    "Write an efficient algorithm for the following assumptions:\n",
    "\n",
    "N is an integer within the range [1..100,000];<br>\n",
    "each element of array A is an integer within the range [0..1,000,000,000];<br>\n",
    "each element of array B is an integer that can have one of the following values: 0, 1;<br>\n",
    "the elements of A are all distinct."
   ]
  },
  {
   "cell_type": "code",
   "execution_count": 9,
   "metadata": {},
   "outputs": [],
   "source": [
    "%matplotlib inline\n",
    "import numpy as np\n",
    "import pandas as pandas\n",
    "import matplotlib.pyplot as plt\n",
    "import time as time\n",
    "\n",
    "import math\n",
    "import operator"
   ]
  },
  {
   "cell_type": "code",
   "execution_count": 10,
   "metadata": {},
   "outputs": [
    {
     "data": {
      "text/plain": [
       "2"
      ]
     },
     "execution_count": 10,
     "metadata": {},
     "output_type": "execute_result"
    }
   ],
   "source": [
    "def solution(A,B):\n",
    "    N = len(A)\n",
    "\n",
    "    # get running maximum for fishes swimming down (from first to last element)\n",
    "    current_max = -1\n",
    "    runmax_down = [0]*N\n",
    "    for i in range(N):\n",
    "        if (B[i] == 1):\n",
    "            current_max = max(current_max, A[i])\n",
    "        elif (B[i] == 0) and A[i] > current_max:\n",
    "             current_max = -1\n",
    "        runmax_down[i] = current_max\n",
    "\n",
    "    # get running maximum for fishes swimming up (from last to first element)\n",
    "    current_max = -1\n",
    "    runmax_up   = [0]*N\n",
    "    for i in range(N-1,-1,-1):\n",
    "        if B[i] == 0:\n",
    "            current_max = max(current_max, A[i])\n",
    "        elif (B[i] == 1) and A[i] > current_max:\n",
    "            current_max = -1\n",
    "        runmax_up[i] = current_max\n",
    "        \n",
    "    #print(runmax_up)\n",
    "    #print(runmax_down)\n",
    "\n",
    "    # count fish that will survive\n",
    "    survivor_count = 0\n",
    "    for i in range(N):\n",
    "        if B[i] == 1: # downstream swimming fish\n",
    "            survivor_count += int(A[i] > runmax_up[i]) # survives if they are bigger than all downstream fish swimming upstream\n",
    "        if B[i] == 0: # upstream swimming fish\n",
    "            survivor_count += int(A[i] > runmax_down[i]) # survives if they are bigger than all upstream fish swimming downstream\n",
    "\n",
    "    return survivor_count     \n",
    "    \n",
    "        \n",
    "        \n",
    "A = [4,3,2,1,5]\n",
    "B = [0,1,0,0,0]\n",
    "\n",
    "#A = [4,3,2,1,5,6,4,2]\n",
    "#B = [0,1,0,0,0,0,1,0]\n",
    "\n",
    "#A = [5]\n",
    "#B = [0]\n",
    "\n",
    "#A = [0,1]\n",
    "#B = [1,1]\n",
    "\n",
    "#A = [4,3,7,2,1,5]\n",
    "#B = [0,1,1,0,0,0]\n",
    "solution(A,B)\n"
   ]
  },
  {
   "cell_type": "code",
   "execution_count": 11,
   "metadata": {},
   "outputs": [
    {
     "data": {
      "text/plain": [
       "Text(0, 0.5, 'time')"
      ]
     },
     "execution_count": 11,
     "metadata": {},
     "output_type": "execute_result"
    },
    {
     "data": {
      "image/png": "[encoded data removed]",
      "text/plain": [
       "<Figure size 432x288 with 1 Axes>"
      ]
     },
     "metadata": {
      "needs_background": "light"
     },
     "output_type": "display_data"
    }
   ],
   "source": [
    "# check time complexity\n",
    "import time as time\n",
    "\n",
    "n_range = np.arange(1,100000,10000)\n",
    "\n",
    "speedA = []\n",
    "results = []\n",
    "for N in n_range:\n",
    "    \n",
    "    A = np.random.permutation((np.linspace(0,1000000,N)).astype(np.int))\n",
    "    B = np.random.randint(0,2,N)\n",
    "    \n",
    "    t1 = time.time()\n",
    "    results.append(solution(A,B))\n",
    "    t2 = time.time()\n",
    "    speedA.append(t2-t1)\n",
    "\n",
    "plt.plot(n_range, speedA, 'ko-')\n",
    "plt.xlabel('N')\n",
    "plt.ylabel('time')"
   ]
  },
  {
   "cell_type": "code",
   "execution_count": null,
   "metadata": {},
   "outputs": [],
   "source": []
  }
 ],
 "metadata": {
  "kernelspec": {
   "display_name": "Python 3",
   "language": "python",
   "name": "python3"
  },
  "language_info": {
   "codemirror_mode": {
    "name": "ipython",
    "version": 3
   },
   "file_extension": ".py",
   "mimetype": "text/x-python",
   "name": "python",
   "nbconvert_exporter": "python",
   "pygments_lexer": "ipython3",
   "version": "3.7.7"
  }
 },
 "nbformat": 4,
 "nbformat_minor": 4
}
